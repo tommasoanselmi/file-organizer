{
 "cells": [
  {
   "cell_type": "markdown",
   "metadata": {},
   "source": [
    "# FILE ORGANIZER"
   ]
  },
  {
   "cell_type": "markdown",
   "metadata": {},
   "source": [
    "___"
   ]
  },
  {
   "cell_type": "markdown",
   "metadata": {},
   "source": [
    "## 1. Organizzazione dei file"
   ]
  },
  {
   "cell_type": "markdown",
   "metadata": {},
   "source": [
    "In questo notebook si documenterà la creazione di uno script per organizzare i file contenuti nella cartella \"files\".\n",
    "Durante l'esecuzione lo script mostrerà log tipo:\n",
    "```\n",
    "bw type:image size:94926B\n",
    "ciao type:doc size:12B\n",
    "daffodil type:image size:24657B\n",
    "eclipse type:image size:64243B\n",
    "pippo type:doc size:8299B\n",
    "song1 type:audio size:1087849B\n",
    "song2 type:audio size:764176B\n",
    "trump type:image size:10195B\n",
    "```"
   ]
  },
  {
   "cell_type": "markdown",
   "metadata": {},
   "source": [
    "I file verranno organizzati in sottocartelle della cartella \"files\" con una struttura tipo:\n",
    "```\n",
    "- files\n",
    "    - audio\n",
    "        - song1.mp3\n",
    "        - song2.mp3\n",
    "    - docs\n",
    "        - ciao.txt\n",
    "        - pippo.odt\n",
    "    - images\n",
    "        - bw.png\n",
    "        - daffodil.jpg\n",
    "        - eclipse.png\n",
    "        - trump.jpeg\n",
    "    - recap.csv\n",
    "```"
   ]
  },
  {
   "cell_type": "markdown",
   "metadata": {},
   "source": [
    "\n",
    "Il file recap.csv contine i log creati dallo script."
   ]
  },
  {
   "cell_type": "markdown",
   "metadata": {},
   "source": [
    "___"
   ]
  },
  {
   "cell_type": "code",
   "execution_count": 1,
   "metadata": {},
   "outputs": [],
   "source": [
    "# Librerie necessarie\n",
    "import os\n",
    "import magic\n",
    "import re"
   ]
  },
  {
   "cell_type": "code",
   "execution_count": 2,
   "metadata": {},
   "outputs": [
    {
     "name": "stdout",
     "output_type": "stream",
     "text": [
      "song1 type:audio size:1087849B\n",
      "ciao type:doc size:12B\n",
      "song2 type:audio size:764176B\n",
      "daffodil type:image size:24657B\n",
      "trump type:image size:10195B\n",
      "bw type:image size:94926B\n",
      "pippo type:doc size:8299B\n",
      "eclipse type:image size:64243B\n"
     ]
    }
   ],
   "source": [
    "# Ottengo il percorso della cartella contenente i file da organizzare\n",
    "files_directory = \"files\"\n",
    "\n",
    "files_path = os.path.join(os.getcwd(), files_directory)\n",
    "\n",
    "# Controllo se sono presenti le sottocartelle. Se non sono presenti le creo.\n",
    "sub_directories = ['audio', 'docs', 'images']\n",
    "\n",
    "for dir in sub_directories:\n",
    "    if not os.path.isdir(os.path.join(files_path, dir)):\n",
    "        os.mkdir(os.path.join(files_path, dir))\n",
    "\n",
    "# Funzione generatore che permette di iterare tutti i file nella cartella file\n",
    "def get_files(path):\n",
    "    for file in os.listdir(path):\n",
    "        if os.path.isfile(os.path.join(path,file)) and file != 'recap.csv':\n",
    "            yield file\n",
    "\n",
    "# Funzione per ottenere il tipo di file\n",
    "def get_type(file):\n",
    "    f = magic.Magic(mime=True)\n",
    "    file_type = f.from_file(os.path.join(files_path, file))\n",
    "    if bool(re.search(r'audio', file_type)):\n",
    "        return 'audio'\n",
    "    elif bool(re.search(r'text', file_type)):\n",
    "        return 'doc'\n",
    "    elif bool(re.search(r'image', file_type)):\n",
    "        return 'image'\n",
    "    else:\n",
    "        print(f\"{file}: Tipo di file non supportato!\")\n",
    "\n",
    "# Funzione per ottenere la dimensione di un file\n",
    "def get_size(file):\n",
    "    return os.path.getsize(os.path.join(files_path, file))\n",
    "\n",
    "# Funzione per ottenere il nome del file senza estensione\n",
    "def get_name(file):\n",
    "    file = os.path.splitext(file)[0]\n",
    "    return file.split('/')[-1]\n",
    "\n",
    "for file in get_files(files_path):\n",
    "    print(f\"{get_name(file)} type:{get_type(file)} size:{get_size(file)}B\")"
   ]
  },
  {
   "cell_type": "code",
   "execution_count": 3,
   "metadata": {},
   "outputs": [],
   "source": [
    "# Per ogni file stampare a schermo nome, tipo e dimensioni. Si sposta il file nella cartella corretta. Infine si salva il log dell'operazione nel file \"recap.csv\"."
   ]
  },
  {
   "cell_type": "markdown",
   "metadata": {},
   "source": [
    "## 2. Conversione dello script da notebook a eseguibile"
   ]
  },
  {
   "cell_type": "markdown",
   "metadata": {},
   "source": [
    "## 3. Utilizzo di NumPy e PIL per mostrare informazionni sulle immagini"
   ]
  }
 ],
 "metadata": {
  "interpreter": {
   "hash": "99d81c3445db0383812cf3ddbe9d9bff2b8b7df4274190ced61ed0c0b9a62851"
  },
  "kernelspec": {
   "display_name": "Python 3.10.2 ('.venv': venv)",
   "language": "python",
   "name": "python3"
  },
  "language_info": {
   "codemirror_mode": {
    "name": "ipython",
    "version": 3
   },
   "file_extension": ".py",
   "mimetype": "text/x-python",
   "name": "python",
   "nbconvert_exporter": "python",
   "pygments_lexer": "ipython3",
   "version": "3.10.2"
  },
  "orig_nbformat": 4
 },
 "nbformat": 4,
 "nbformat_minor": 2
}
