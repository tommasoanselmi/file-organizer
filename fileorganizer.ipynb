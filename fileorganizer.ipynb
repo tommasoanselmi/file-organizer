{
 "cells": [
  {
   "cell_type": "markdown",
   "metadata": {},
   "source": [
    "# FILE ORGANIZER"
   ]
  },
  {
   "cell_type": "markdown",
   "metadata": {},
   "source": [
    "___"
   ]
  },
  {
   "cell_type": "markdown",
   "metadata": {},
   "source": [
    "## 1. Organizzazione dei file"
   ]
  },
  {
   "cell_type": "markdown",
   "metadata": {},
   "source": [
    "In questo notebook si documenterà la creazione di uno script per organizzare i file contenuti nella cartella \"files\".\n",
    "Durante l'esecuzione lo script mostrerà log tipo:\n",
    "```\n",
    "bw type:image size:94926B\n",
    "ciao type:doc size:12B\n",
    "daffodil type:image size:24657B\n",
    "eclipse type:image size:64243B\n",
    "pippo type:doc size:8299B\n",
    "song1 type:audio size:1087849B\n",
    "song2 type:audio size:764176B\n",
    "trump type:image size:10195B\n",
    "```"
   ]
  },
  {
   "cell_type": "markdown",
   "metadata": {},
   "source": [
    "I file verranno organizzati in sottocartelle della cartella \"files\" con una struttura tipo:\n",
    "```\n",
    "- files\n",
    "    - audio\n",
    "        - song1.mp3\n",
    "        - song2.mp3\n",
    "    - docs\n",
    "        - ciao.txt\n",
    "        - pippo.odt\n",
    "    - images\n",
    "        - bw.png\n",
    "        - daffodil.jpg\n",
    "        - eclipse.png\n",
    "        - trump.jpeg\n",
    "    - recap.csv\n",
    "```"
   ]
  },
  {
   "cell_type": "markdown",
   "metadata": {},
   "source": [
    "Il file recap.csv contine i log creati dallo script."
   ]
  },
  {
   "cell_type": "markdown",
   "metadata": {},
   "source": [
    "___"
   ]
  },
  {
   "cell_type": "code",
   "execution_count": null,
   "metadata": {},
   "outputs": [],
   "source": [
    "# Librerie necessarie"
   ]
  },
  {
   "cell_type": "code",
   "execution_count": null,
   "metadata": {},
   "outputs": [],
   "source": [
    "# Controllo: Nella cartella file sono presenti le sottocartelle? Se non sono presenti vengono create."
   ]
  },
  {
   "cell_type": "code",
   "execution_count": null,
   "metadata": {},
   "outputs": [],
   "source": [
    "# Per ogni file stampare a schermo nome, tipo e dimensioni. Si sposta il file nella cartella corretta. Infine si salva il log dell'operazione nel file recap.csv."
   ]
  },
  {
   "cell_type": "markdown",
   "metadata": {},
   "source": [
    "## 2. Conversione dello script da notebook a eseguibile"
   ]
  },
  {
   "cell_type": "markdown",
   "metadata": {},
   "source": [
    "## 3. Utilizzo di NumPy e PIL per mostrare informazionni sulle immagini"
   ]
  }
 ],
 "metadata": {
  "interpreter": {
   "hash": "99d81c3445db0383812cf3ddbe9d9bff2b8b7df4274190ced61ed0c0b9a62851"
  },
  "kernelspec": {
   "display_name": "Python 3.10.2 ('.venv': venv)",
   "language": "python",
   "name": "python3"
  },
  "language_info": {
   "name": "python",
   "version": "3.10.2"
  },
  "orig_nbformat": 4
 },
 "nbformat": 4,
 "nbformat_minor": 2
}
