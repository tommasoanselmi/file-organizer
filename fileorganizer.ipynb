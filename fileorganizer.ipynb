{
 "cells": [
  {
   "cell_type": "markdown",
   "metadata": {},
   "source": [
    "# FILE ORGANIZER"
   ]
  },
  {
   "cell_type": "markdown",
   "metadata": {},
   "source": [
    "___"
   ]
  },
  {
   "cell_type": "markdown",
   "metadata": {},
   "source": [
    "## 1. Organizzazione dei file"
   ]
  },
  {
   "cell_type": "markdown",
   "metadata": {},
   "source": [
    "In questo notebook si documenterà la creazione di uno script per organizzare i file contenuti nella cartella \"files\".\n",
    "Durante l'esecuzione lo script mostrerà log tipo:\n",
    "```\n",
    "bw type:image size:94926B\n",
    "ciao type:doc size:12B\n",
    "daffodil type:image size:24657B\n",
    "eclipse type:image size:64243B\n",
    "pippo type:doc size:8299B\n",
    "song1 type:audio size:1087849B\n",
    "song2 type:audio size:764176B\n",
    "trump type:image size:10195B\n",
    "```"
   ]
  },
  {
   "cell_type": "markdown",
   "metadata": {},
   "source": [
    "I file verranno organizzati in sottocartelle della cartella \"files\" con una struttura tipo:\n",
    "```\n",
    "- files\n",
    "    - audio\n",
    "        - song1.mp3\n",
    "        - song2.mp3\n",
    "    - docs\n",
    "        - ciao.txt\n",
    "        - pippo.odt\n",
    "    - images\n",
    "        - bw.png\n",
    "        - daffodil.jpg\n",
    "        - eclipse.png\n",
    "        - trump.jpeg\n",
    "    - recap.csv\n",
    "```"
   ]
  },
  {
   "cell_type": "markdown",
   "metadata": {},
   "source": [
    "\n",
    "Il file recap.csv contine i log creati dallo script."
   ]
  },
  {
   "cell_type": "markdown",
   "metadata": {},
   "source": [
    "___"
   ]
  },
  {
   "cell_type": "markdown",
   "metadata": {},
   "source": [
    "### 1.1 Script per organizzare i file"
   ]
  },
  {
   "cell_type": "code",
   "execution_count": 1,
   "metadata": {},
   "outputs": [],
   "source": [
    "# Librerie necessarie\n",
    "import os\n",
    "import magic\n",
    "import re\n",
    "import shutil\n",
    "import csv"
   ]
  },
  {
   "cell_type": "code",
   "execution_count": 2,
   "metadata": {},
   "outputs": [],
   "source": [
    "# Funzione generatore che permette di iterare tutti i file nella cartella file, senza considerare il file recap.csv\n",
    "def get_files(path):\n",
    "    for file in os.listdir(path):\n",
    "        if os.path.isfile(os.path.join(path,file)) and file != 'recap.csv':\n",
    "            yield file"
   ]
  },
  {
   "cell_type": "code",
   "execution_count": 3,
   "metadata": {},
   "outputs": [],
   "source": [
    "# Funzione per ottenere il tipo di file\n",
    "def get_type(file):\n",
    "    f = magic.Magic(mime=True)\n",
    "    file_type = f.from_file(os.path.join(files_path, file))\n",
    "    if re.search(r'audio', file_type):\n",
    "        return 'audio'\n",
    "    elif re.search(r'text', file_type):\n",
    "        return 'doc'\n",
    "    elif re.search(r'image', file_type):\n",
    "        return 'image'\n",
    "    else:\n",
    "        raise TypeError(f\"{file}: Tipo di file non supportato!\")"
   ]
  },
  {
   "cell_type": "code",
   "execution_count": 4,
   "metadata": {},
   "outputs": [],
   "source": [
    "# Funzione per ottenere la dimensione di un file\n",
    "def get_size(file):\n",
    "    return os.path.getsize(os.path.join(files_path, file))"
   ]
  },
  {
   "cell_type": "code",
   "execution_count": 5,
   "metadata": {},
   "outputs": [],
   "source": [
    "# Funzione per ottenere il nome del file senza estensione\n",
    "def get_name(file):\n",
    "    file = os.path.splitext(file)[0]\n",
    "    return file.split('/')[-1]"
   ]
  },
  {
   "cell_type": "code",
   "execution_count": 6,
   "metadata": {},
   "outputs": [],
   "source": [
    "# Ottengo il percorso della cartella contenente i file da organizzare\n",
    "files_directory = \"files\"\n",
    "\n",
    "files_path = os.path.join(os.getcwd(), files_directory)"
   ]
  },
  {
   "cell_type": "code",
   "execution_count": 7,
   "metadata": {},
   "outputs": [],
   "source": [
    "# Controllo se sono presenti le sottocartelle. Se non sono presenti le creo.\n",
    "sub_directories = ['audio', 'docs', 'images']\n",
    "\n",
    "for dir in sub_directories:\n",
    "    if not os.path.isdir(os.path.join(files_path, dir)):\n",
    "        os.mkdir(os.path.join(files_path, dir))"
   ]
  },
  {
   "cell_type": "code",
   "execution_count": 8,
   "metadata": {},
   "outputs": [],
   "source": [
    "# Loop principale\n",
    "done = False\n",
    "while not done:\n",
    "    # Controlla se il file recap.csv esiste\n",
    "    if os.path.isfile(os.path.join(files_path, 'recap.csv')):\n",
    "        recap_csv = open(os.path.join(files_path, 'recap.csv'), \"a\") # se esiste si apre in modalità \"append\" per non sovrascrivere il file esistente\n",
    "        writer = csv.writer(recap_csv) # Oggetto \"writer\" per aggiungere righe al file\n",
    "    else:\n",
    "        recap_csv = open(os.path.join(files_path, 'recap.csv'), \"x\") # se non esiste si crea in modalità esclusiva (restituisce errore se il file esiste)\n",
    "        title_row = ['name', 'type', 'size(B)'] # Prima riga con i nomi delle colonne\n",
    "        writer = csv.writer(recap_csv) # Oggetto \"writer\" per aggiungere righe al file\n",
    "        writer.writerow(title_row) # Inizializza il file csv con i titoli delle colonne\n",
    "    \n",
    "    for file in get_files(files_path):\n",
    "        print(f\"{get_name(file)} type:{get_type(file)} size:{get_size(file)}B\") # Stampa a schermo l'operazione\n",
    "        row = [get_name(file), get_type(file), get_size(file)] # Salva l'operazione su csv\n",
    "        writer.writerow(row)\n",
    "        # Sposta i file in base al tipo\n",
    "        if get_type(file) == 'audio':\n",
    "            shutil.move(os.path.join(files_path, file), os.path.join(files_path, 'audio'))\n",
    "        elif get_type(file) == 'doc':\n",
    "            shutil.move(os.path.join(files_path, file), os.path.join(files_path, 'docs'))\n",
    "        else:\n",
    "            shutil.move(os.path.join(files_path, file), os.path.join(files_path, 'images'))\n",
    "\n",
    "    recap_csv.close() # Chiude il file csv\n",
    "    done = True # Interrompe il loop"
   ]
  },
  {
   "cell_type": "markdown",
   "metadata": {},
   "source": [
    "___"
   ]
  },
  {
   "cell_type": "markdown",
   "metadata": {},
   "source": [
    "## 2. Conversione dello script da notebook a eseguibile"
   ]
  },
  {
   "cell_type": "markdown",
   "metadata": {},
   "source": [
    "Lo script realizzato nel capitolo 1 è stato convertito in eseguibile. L'eseguibile nominato `addfile.py` si trova nella stessa cartella del notebook.\n",
    "\n",
    "L'eseguibile è stato realizzato utilizzando la libreria `typer` in quanto essa fornisce automaticamente messaggi di errore per argomenti mancanti e funzione help.\n",
    "\n",
    "Il file da organizzare si deve trovare all'interno della cartella `files` ma **NON** in una delle sottocartelle.\n",
    "\n",
    "Lo script stamperà a schermo i dati sul file che verranno poi scritti in `recap.csv`."
   ]
  },
  {
   "cell_type": "markdown",
   "metadata": {},
   "source": [
    "___"
   ]
  },
  {
   "cell_type": "markdown",
   "metadata": {},
   "source": [
    "## 3. Utilizzo di NumPy e PIL per mostrare informazionni sulle immagini"
   ]
  },
  {
   "cell_type": "code",
   "execution_count": 9,
   "metadata": {},
   "outputs": [
    {
     "data": {
      "text/html": [
       "<pre style=\"white-space:pre;overflow-x:auto;line-height:normal;font-family:Menlo,'DejaVu Sans Mono',consolas,'Courier New',monospace\"><span style=\"font-style: italic\">                                   Images                                   </span>\n",
       "┏━━━━━━━━━━┳━━━━━━━━┳━━━━━━━┳━━━━━━━━━━━┳━━━━━━━━┳━━━━━━━━┳━━━━━━━┳━━━━━━━━┓\n",
       "┃<span style=\"font-weight: bold\"> Name     </span>┃<span style=\"font-weight: bold\"> Height </span>┃<span style=\"font-weight: bold\"> Width </span>┃<span style=\"font-weight: bold\"> Grayscale </span>┃<span style=\"font-weight: bold\"> Red    </span>┃<span style=\"font-weight: bold\"> Green  </span>┃<span style=\"font-weight: bold\"> Blue  </span>┃<span style=\"font-weight: bold\"> ALPHA  </span>┃\n",
       "┡━━━━━━━━━━╇━━━━━━━━╇━━━━━━━╇━━━━━━━━━━━╇━━━━━━━━╇━━━━━━━━╇━━━━━━━╇━━━━━━━━┩\n",
       "│ daffodil │ 500    │ 335   │ 0.00      │ 109.23 │ 85.52  │ 4.77  │ 0.00   │\n",
       "│ trump    │ 183    │ 275   │ 0.00      │ 97.01  │ 98.99  │ 90.92 │ 0.00   │\n",
       "│ bw       │ 512    │ 512   │ 21.48     │ 0.00   │ 0.00   │ 0.00  │ 0.00   │\n",
       "│ eclipse  │ 256    │ 256   │ 0.00      │ 109.05 │ 109.52 │ 39.85 │ 133.59 │\n",
       "└──────────┴────────┴───────┴───────────┴────────┴────────┴───────┴────────┘\n",
       "</pre>\n"
      ],
      "text/plain": [
       "\u001b[3m                                   Images                                   \u001b[0m\n",
       "┏━━━━━━━━━━┳━━━━━━━━┳━━━━━━━┳━━━━━━━━━━━┳━━━━━━━━┳━━━━━━━━┳━━━━━━━┳━━━━━━━━┓\n",
       "┃\u001b[1m \u001b[0m\u001b[1mName    \u001b[0m\u001b[1m \u001b[0m┃\u001b[1m \u001b[0m\u001b[1mHeight\u001b[0m\u001b[1m \u001b[0m┃\u001b[1m \u001b[0m\u001b[1mWidth\u001b[0m\u001b[1m \u001b[0m┃\u001b[1m \u001b[0m\u001b[1mGrayscale\u001b[0m\u001b[1m \u001b[0m┃\u001b[1m \u001b[0m\u001b[1mRed   \u001b[0m\u001b[1m \u001b[0m┃\u001b[1m \u001b[0m\u001b[1mGreen \u001b[0m\u001b[1m \u001b[0m┃\u001b[1m \u001b[0m\u001b[1mBlue \u001b[0m\u001b[1m \u001b[0m┃\u001b[1m \u001b[0m\u001b[1mALPHA \u001b[0m\u001b[1m \u001b[0m┃\n",
       "┡━━━━━━━━━━╇━━━━━━━━╇━━━━━━━╇━━━━━━━━━━━╇━━━━━━━━╇━━━━━━━━╇━━━━━━━╇━━━━━━━━┩\n",
       "│ daffodil │ 500    │ 335   │ 0.00      │ 109.23 │ 85.52  │ 4.77  │ 0.00   │\n",
       "│ trump    │ 183    │ 275   │ 0.00      │ 97.01  │ 98.99  │ 90.92 │ 0.00   │\n",
       "│ bw       │ 512    │ 512   │ 21.48     │ 0.00   │ 0.00   │ 0.00  │ 0.00   │\n",
       "│ eclipse  │ 256    │ 256   │ 0.00      │ 109.05 │ 109.52 │ 39.85 │ 133.59 │\n",
       "└──────────┴────────┴───────┴───────────┴────────┴────────┴───────┴────────┘\n"
      ]
     },
     "metadata": {},
     "output_type": "display_data"
    }
   ],
   "source": [
    "from PIL import Image\n",
    "import numpy as np\n",
    "from rich.console import Console\n",
    "from rich.table import Table\n",
    "\n",
    "image_path = os.path.join(files_path, sub_directories[2]) # Cartella contenente le immagini\n",
    "\n",
    "# Inizializzo la tabella\n",
    "table = Table(title=\"Images\")\n",
    "table_titles = [\"Name\",\"Height\",\"Width\",\"Grayscale\",\"Red\",\"Green\",\"Blue\",\"ALPHA\"]\n",
    "for title in table_titles:\n",
    "    table.add_column(title)\n",
    "# Creo una nuova riga nella tabella per ogni immagine\n",
    "for image_file in os.listdir(image_path):\n",
    "    with Image.open(os.path.join(image_path, image_file)) as image:\n",
    "        image_arr = np.array(image) # Converto l'immagine in array\n",
    "        if image_arr.ndim == 2: # Se l'immagine è in bianco e nero\n",
    "            table.add_row(\n",
    "                str(get_name(image_file)), # Nome del file\n",
    "                str(image_arr.shape[0]), # Altezza\n",
    "                str(image_arr.shape[1]), # Larghezza\n",
    "                str(np.around(image_arr.mean(dtype=np.float64), decimals=2)), # Scala di grigi\n",
    "                \"0.00\", # Rosso\n",
    "                \"0.00\", # Verde\n",
    "                \"0.00\", # Blu\n",
    "                \"0.00\" # Alpha\n",
    "            )\n",
    "        elif image_arr.shape[2] == 3: # Se l'immagine è a colori senza alpha\n",
    "            table.add_row(\n",
    "                str(get_name(image_file)), # Nome del file\n",
    "                str(image_arr.shape[0]), # Altezza\n",
    "                str(image_arr.shape[1]), # Larghezza\n",
    "                \"0.00\", # Scala di grigi\n",
    "                str(np.around(np.mean(image_arr[:,:,0]), decimals=2)), # Rosso\n",
    "                str(np.around(np.mean(image_arr[:,:,1]), decimals=2)), # Verde\n",
    "                str(np.around(np.mean(image_arr[:,:,2]), decimals=2)), # Blu\n",
    "                \"0.00\" # Alpha\n",
    "            )\n",
    "        else: # Se l'immagine è a colori con alpha\n",
    "            table.add_row(\n",
    "                str(get_name(image_file)), # Nome del file\n",
    "                str(image_arr.shape[0]), # Altezza\n",
    "                str(image_arr.shape[1]), # Larghezza\n",
    "                \"0.00\", # Scala di grigi\n",
    "                str(np.around(np.mean(image_arr[:,:,0]), decimals=2)), # Rosso\n",
    "                str(np.around(np.mean(image_arr[:,:,1]), decimals=2)), # Verde\n",
    "                str(np.around(np.mean(image_arr[:,:,2]), decimals=2)), # Blu\n",
    "                str(np.around(np.mean(image_arr[:,:,3]), decimals=2)) # Alpha\n",
    "            )\n",
    "\n",
    "console = Console()\n",
    "console.print(table)\n"
   ]
  }
 ],
 "metadata": {
  "interpreter": {
   "hash": "99d81c3445db0383812cf3ddbe9d9bff2b8b7df4274190ced61ed0c0b9a62851"
  },
  "kernelspec": {
   "display_name": "Python 3.10.2 ('.venv': venv)",
   "language": "python",
   "name": "python3"
  },
  "language_info": {
   "codemirror_mode": {
    "name": "ipython",
    "version": 3
   },
   "file_extension": ".py",
   "mimetype": "text/x-python",
   "name": "python",
   "nbconvert_exporter": "python",
   "pygments_lexer": "ipython3",
   "version": "3.10.2"
  },
  "orig_nbformat": 4
 },
 "nbformat": 4,
 "nbformat_minor": 2
}
